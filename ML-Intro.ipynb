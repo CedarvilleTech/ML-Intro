{
 "cells": [
  {
   "cell_type": "markdown",
   "metadata": {},
   "source": [
    "## Data\n",
    "\n",
    "The MNIST Dataset (as a CSV file for simplicity) can be found at [https://www.kaggle.com/datasets/oddrationale/mnist-in-csv/data](https://www.kaggle.com/datasets/oddrationale/mnist-in-csv/data)\n",
    "\n",
    "First, we must read the data from the CSV files. You can open the CSV files to see how the data is formatted: the first column is the image's label, and the remaining columns are the pixels for the image"
   ]
  },
  {
   "cell_type": "code",
   "execution_count": null,
   "metadata": {},
   "outputs": [],
   "source": [
    "import csv\n",
    "from PIL import Image\n",
    "\n",
    "def read_data(file):\n",
    "    data = [[], [], []]\n",
    "    with open(file, newline='') as csvFile:\n",
    "        reader = csv.reader(csvFile)\n",
    "        for row in reader:\n",
    "\n",
    "            # skip header row\n",
    "            if reader.line_num == 1:\n",
    "                continue\n",
    "\n",
    "            # first column is label\n",
    "            data[0].append(int(row[0]))\n",
    "\n",
    "            # remaining columns are image data\n",
    "            imageData = [int(x) for x in row[1:]]\n",
    "            normalizedImageData = [x / 255 for x in imageData]\n",
    "            data[1].append(normalizedImageData)\n",
    "\n",
    "            # convert to image for reference\n",
    "            image = Image.new('L', (28, 28))\n",
    "            image.putdata(imageData)\n",
    "            data[2].append(image)\n",
    "\n",
    "    return data\n",
    "\n",
    "# contains (label, imageData, and image)\n",
    "trainingData = read_data('mnist_train.csv')\n",
    "testData = read_data('mnist_test.csv')\n"
   ]
  },
  {
   "cell_type": "markdown",
   "metadata": {},
   "source": [
    "Now we can preview some of the images using matplotlib\n",
    "\n",
    "`pip install matplotlib`"
   ]
  },
  {
   "cell_type": "code",
   "execution_count": null,
   "metadata": {},
   "outputs": [],
   "source": [
    "import matplotlib.pyplot as plt\n",
    "import random\n",
    "\n",
    "width = 8\n",
    "height = 4\n",
    "\n",
    "plt.figure(figsize=(width, height))\n",
    "\n",
    "for idx in range(0, width * height):\n",
    "    img = random.randint(0, len(trainingData[0]) - 1)\n",
    "    plt.subplot(height, width, idx + 1)\n",
    "    plt.imshow(trainingData[2][img], cmap='binary')\n",
    "    plt.title(trainingData[0][img], y=-0.3)\n",
    "    plt.axis('off')\n",
    "\n",
    "plt.show()"
   ]
  },
  {
   "cell_type": "markdown",
   "metadata": {},
   "source": [
    "## The model\n",
    "\n",
    "Now let's create the model that we're going to train. We will use scikit-learn\n",
    "to create our model. This type of model is called a Dense Neural Network or\n",
    "Fully Connected Neural Network (FCNN).\n",
    "\n",
    "`pip install scikit-learn`"
   ]
  },
  {
   "cell_type": "code",
   "execution_count": null,
   "metadata": {},
   "outputs": [],
   "source": [
    "# TODO: create & train model"
   ]
  },
  {
   "cell_type": "code",
   "execution_count": null,
   "metadata": {},
   "outputs": [],
   "source": [
    "# TODO: evaluate accuracy"
   ]
  },
  {
   "cell_type": "markdown",
   "metadata": {},
   "source": [
    "## Writing our own numbers\n",
    "\n",
    "The following script lets you draw on a canvas. Then, you can have your model guess what number you wrote!"
   ]
  },
  {
   "cell_type": "code",
   "execution_count": null,
   "metadata": {},
   "outputs": [],
   "source": [
    "from ipycanvas import Canvas\n",
    "\n",
    "canvasSize = 300\n",
    "strokeSize = 8\n",
    "\n",
    "canvas: Canvas = Canvas(width=canvasSize, height=canvasSize)\n",
    "canvas.fill_style = \"black\"\n",
    "canvas.stroke_style = 'white'\n",
    "canvas.line_width = 24\n",
    "canvas.line_cap = 'round'\n",
    "canvas.line_join = 'round'\n",
    "canvas.fill_rect(0, 0, canvasSize, canvasSize)\n",
    "\n",
    "mouseDown = False\n",
    "points = []\n",
    "\n",
    "def handle_mouse_down(x, y):\n",
    "    global mouseDown\n",
    "    mouseDown = True\n",
    "    canvas.move_to(x, y)\n",
    "\n",
    "\n",
    "def handle_mouse_up(x, y):\n",
    "    global mouseDown\n",
    "    mouseDown = False\n",
    "    canvas.begin_path()\n",
    "    canvas.line_to(x, y)\n",
    "    canvas.stroke()\n",
    "\n",
    "def handle_mouse_move(x, y):\n",
    "    if mouseDown:\n",
    "        canvas.line_to(x, y)\n",
    "        canvas.stroke()\n",
    "        fill = canvas.create_radial_gradient(\n",
    "            x, y, strokeSize / 2, x, y, strokeSize, [(0, \"#FFFFFFFF\"), (1, \"#FFFFFF00\")]\n",
    "        )\n",
    "\n",
    "        canvas.fill_style = fill\n",
    "        # canvas.fill_circle(x, y, strokeSize)\n",
    "\n",
    "\n",
    "def save_to_file(*args, **kwargs):\n",
    "    canvas.to_file(\"my_image.png\")\n",
    "\n",
    "\n",
    "canvas.on_mouse_down(handle_mouse_down)\n",
    "canvas.on_mouse_up(handle_mouse_up)\n",
    "canvas.on_mouse_move(handle_mouse_move)\n",
    "\n",
    "canvas.observe(save_to_file, \"image_data\")\n",
    "canvas.sync_image_data = True\n",
    "\n",
    "canvas"
   ]
  },
  {
   "cell_type": "markdown",
   "metadata": {},
   "source": [
    "The following code snippit will sometimes use an outdated version of the canvas. If the preview does not match what you drew, just run it again."
   ]
  },
  {
   "cell_type": "code",
   "execution_count": null,
   "metadata": {},
   "outputs": [],
   "source": [
    "from ipywidgets import Image as Img\n",
    "\n",
    "# open image as a 28x28 grayscale image\n",
    "image = Image.open('my_image.png').resize((28, 28)).convert(mode='L')\n",
    "# save image for previewing\n",
    "image.save('small_image.png')\n",
    "imageData = [x / 255 for x in image.getdata()]\n",
    "print(mlp.predict([image.getdata()]))\n",
    "\n",
    "imagePreview = Img.from_file(\"small_image.png\")\n",
    "\n",
    "preview: Canvas = Canvas(width=(28 * 4), height=(28 * 4))\n",
    "preview.draw_image(imagePreview, 0, 0, 28 * 4, 28 * 4)\n",
    "preview"
   ]
  }
 ],
 "metadata": {
  "kernelspec": {
   "display_name": "Python 3",
   "language": "python",
   "name": "python3"
  },
  "language_info": {
   "codemirror_mode": {
    "name": "ipython",
    "version": 3
   },
   "file_extension": ".py",
   "mimetype": "text/x-python",
   "name": "python",
   "nbconvert_exporter": "python",
   "pygments_lexer": "ipython3",
   "version": "3.13.0"
  }
 },
 "nbformat": 4,
 "nbformat_minor": 2
}
